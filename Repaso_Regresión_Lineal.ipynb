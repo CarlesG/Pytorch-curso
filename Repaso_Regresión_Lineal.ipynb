{
  "nbformat": 4,
  "nbformat_minor": 0,
  "metadata": {
    "colab": {
      "name": "Repaso Regresión Lineal.ipynb",
      "provenance": [],
      "collapsed_sections": [],
      "toc_visible": true,
      "authorship_tag": "ABX9TyMH9Nhxt66vNDGvV6lWuuZE",
      "include_colab_link": true
    },
    "kernelspec": {
      "name": "python3",
      "display_name": "Python 3"
    },
    "language_info": {
      "name": "python"
    }
  },
  "cells": [
    {
      "cell_type": "markdown",
      "metadata": {
        "id": "view-in-github",
        "colab_type": "text"
      },
      "source": [
        "<a href=\"https://colab.research.google.com/github/CarlesG/Pytorch-curso/blob/main/Repaso_Regresi%C3%B3n_Lineal.ipynb\" target=\"_parent\"><img src=\"https://colab.research.google.com/assets/colab-badge.svg\" alt=\"Open In Colab\"/></a>"
      ]
    },
    {
      "cell_type": "code",
      "metadata": {
        "id": "F-AROYS3Hy-1"
      },
      "source": [
        "import torch\n",
        "import numpy as np"
      ],
      "execution_count": null,
      "outputs": []
    },
    {
      "cell_type": "markdown",
      "metadata": {
        "id": "8K_0a8BsIAKR"
      },
      "source": [
        "# Introducción \n",
        "Vamos a aplicar regresión lineal, utilizando el framework de Pytorch, utilizando para ello el modelo lineal. El ejemplo que vamos a utilizar es el mismo que se nos da en el notebook [aquí](https://jovian.ai/aakashns/02-linear-regression). Báásicamente los datos nos dan la infomación de las cosechas en diferentes localizaciones, de manzanas y naranjas, en función de las siguiente variables:\n",
        "* Temperatura (F)\n",
        "* Lluvia (mm)\n",
        "* Humedad (%)\n",
        "\n",
        "![imagen](https://i.imgur.com/6Ujttb4.png)\n",
        "Los pasos que vamos a seguir para realizar la regresíon y obtener un modelo para predecir el resultado de las cosechas de estos dos cultivos, son los siguientes:\n",
        "\n"
      ]
    },
    {
      "cell_type": "markdown",
      "metadata": {
        "id": "uES5Qp0iKS-H"
      },
      "source": [
        "# 1. Preparación del dataset\n",
        "Nos dan el dataset directamente con los arrays siguientes de numpy:\n"
      ]
    },
    {
      "cell_type": "code",
      "metadata": {
        "id": "_xRWc0uFKC5S"
      },
      "source": [
        "# temp, rainfall , humidity\n",
        "\n",
        "inputs = np.array([[73, 67, 43], \n",
        "                   [91, 88, 64], \n",
        "                   [87, 134, 58], \n",
        "                   [102, 43, 37], \n",
        "                   [69, 96, 70], \n",
        "                   [74, 66, 43], \n",
        "                   [91, 87, 65], \n",
        "                   [88, 134, 59], \n",
        "                   [101, 44, 37], \n",
        "                   [68, 96, 71], \n",
        "                   [73, 66, 44], \n",
        "                   [92, 87, 64], \n",
        "                   [87, 135, 57], \n",
        "                   [103, 43, 36], \n",
        "                   [68, 97, 70]], \n",
        "                  dtype='float32')\n",
        "\n",
        "# Targets (manzanas, naranjas)\n",
        "\n",
        "targets = np.array([[56, 70], \n",
        "                    [81, 101], \n",
        "                    [119, 133], \n",
        "                    [22, 37], \n",
        "                    [103, 119],\n",
        "                    [57, 69], \n",
        "                    [80, 102], \n",
        "                    [118, 132], \n",
        "                    [21, 38], \n",
        "                    [104, 118], \n",
        "                    [57, 69], \n",
        "                    [82, 100], \n",
        "                    [118, 134], \n",
        "                    [20, 38], \n",
        "                    [102, 120]], \n",
        "                   dtype='float32')"
      ],
      "execution_count": null,
      "outputs": []
    },
    {
      "cell_type": "markdown",
      "metadata": {
        "id": "TMZicltnK6e9"
      },
      "source": [
        "Como podemos ver, tendremos variables de entrada, y objetivos, o variables de salida. Convertimos los arrays de numpy a tensores, para poder trabajar con pytorch. "
      ]
    },
    {
      "cell_type": "code",
      "metadata": {
        "id": "2C7Gwn1jK_PP"
      },
      "source": [
        "# convertimos los arrays a tensores\n",
        "\n",
        "inputs = torch.from_numpy(inputs)\n",
        "targets = torch.from_numpy(targets)"
      ],
      "execution_count": null,
      "outputs": []
    },
    {
      "cell_type": "markdown",
      "metadata": {
        "id": "YMLjaWavLzXk"
      },
      "source": [
        "Para poder acceder a los datos como tuplas, utilizamos la estructura `Datase`. Para cargar los batches de forma desordenada y aleatoria, y no pasarle a nuestro modelo todas las entradas a la vez, lo que se utiliza es el `Dataloader`. Si recorremos toda la tupla generada con Dataloader, recorreremos todo el dataset, pero con un tamaño de batch determinada y además, podemos agregarle la opción de barajar los inputs de forma aleatoria. Esto ayuda a la convergencia más rápida, al buscar el mínimo de la función de pérdidas."
      ]
    },
    {
      "cell_type": "code",
      "metadata": {
        "id": "UTg7rmOMLzDV"
      },
      "source": [
        "# cargamos las librerías para manipular el dataset\n",
        "\n",
        "from torch.utils.data import TensorDataset, DataLoader\n",
        "data_st = TensorDataset(inputs,targets)\n",
        "data_ld = DataLoader(data_st, batch_size = 2, shuffle = True)"
      ],
      "execution_count": null,
      "outputs": []
    },
    {
      "cell_type": "markdown",
      "metadata": {
        "id": "czPfy_LvShwq"
      },
      "source": [
        "# 2. Generación del modelo\n",
        "Generamos el modelo, con lo que ya se inicializaría aleatoriamente los pesos y las bias, de la siguiente forma"
      ]
    },
    {
      "cell_type": "code",
      "metadata": {
        "colab": {
          "base_uri": "https://localhost:8080/"
        },
        "id": "lc6PDstWS83_",
        "outputId": "c3ee1c22-021c-4512-c33b-d1f2d90bc26d"
      },
      "source": [
        "# Generamos el modelo de predición\n",
        "\n",
        "nn = torch.nn\n",
        "model = nn.Linear(3,2) # Tenemos tres variables de entrada (temperatura, lluvia y humedad) y dos de salida (manzanas y naranjas)\n",
        "\n",
        "# Para ver los parámetros del modelo\n",
        "\n",
        "print(model)\n",
        "print(model.weight)\n",
        "print(model.bias)\n",
        "\n",
        "list(model.parameters())"
      ],
      "execution_count": null,
      "outputs": [
        {
          "output_type": "stream",
          "text": [
            "Linear(in_features=3, out_features=2, bias=True)\n",
            "Parameter containing:\n",
            "tensor([[-0.0709,  0.4900,  0.3618],\n",
            "        [-0.4067,  0.5429,  0.1179]], requires_grad=True)\n",
            "Parameter containing:\n",
            "tensor([-0.4041,  0.3859], requires_grad=True)\n"
          ],
          "name": "stdout"
        },
        {
          "output_type": "execute_result",
          "data": {
            "text/plain": [
              "[Parameter containing:\n",
              " tensor([[-0.0709,  0.4900,  0.3618],\n",
              "         [-0.4067,  0.5429,  0.1179]], requires_grad=True),\n",
              " Parameter containing:\n",
              " tensor([-0.4041,  0.3859], requires_grad=True)]"
            ]
          },
          "metadata": {
            "tags": []
          },
          "execution_count": 39
        }
      ]
    },
    {
      "cell_type": "markdown",
      "metadata": {
        "id": "mvObfiPWUhd3"
      },
      "source": [
        "# 3. Función de pérdidas\n",
        " Definimos la función de coste"
      ]
    },
    {
      "cell_type": "code",
      "metadata": {
        "id": "9YMMHFwbTHHd"
      },
      "source": [
        "import torch.nn.functional as F\n",
        "\n",
        "# Definimos la función de pérdidas\n",
        "loss_fn = F.mse_loss\n",
        "\n",
        "# Computamos\n",
        "loss = loss_fn(model(inputs), targets)"
      ],
      "execution_count": null,
      "outputs": []
    },
    {
      "cell_type": "markdown",
      "metadata": {
        "id": "kTAU41X-V5Ft"
      },
      "source": [
        "# 4. Optimización por el gradiente descendente.\n",
        "para iniciar el optimizador, tenemos que pasarle los parámetros a optimizar, es decir, los parámetros de nuestro modelo:\n"
      ]
    },
    {
      "cell_type": "code",
      "metadata": {
        "id": "zDWS8FA-UuqZ"
      },
      "source": [
        "learning_rate = 1e-5\n",
        "opt = torch.optim.SGD(model.parameters(),learning_rate)"
      ],
      "execution_count": null,
      "outputs": []
    },
    {
      "cell_type": "markdown",
      "metadata": {
        "id": "z0YmzXOBW7yG"
      },
      "source": [
        "# 5. Entrenando el modelo\n",
        "\n",
        "Una vez definidos todos los anteriores puntos, estamos listos para realizar el entrenamiento de nuestro modelo, para ello, realizamos la siguiente funcióón que realiza los siguientes pasos:\n",
        "1. Generar la predicción. No es mas que propagar nuestro batch de entrada a través del modelo\n",
        "2. Calcular la función de coste \n",
        "3. Computar los gradientes con la función `backward`\n",
        "4. Actualizar los pesos.\n",
        "5. Resetear los gradientes, para que no se acumulen en el grafo computacional.\n",
        "6. Cada 10 epochs  mostrar el último valor actual de la función de pérdidas, mediante `loss.item`"
      ]
    },
    {
      "cell_type": "code",
      "metadata": {
        "id": "zhYBTu6rYFBw"
      },
      "source": [
        "def entrenamiento(num_epochs, model, loss_fn, opt, data_ld):\n",
        "  # Repetimos para un determinaod valor de epochs\n",
        "\n",
        "  for epoch in range(num_epochs):\n",
        "    \n",
        "    for xb, yb in data_ld:\n",
        "      \n",
        "      pred = model(xb)\n",
        "      loss = loss_fn(pred, yb)\n",
        "      loss.backward()\n",
        "      opt.step()\n",
        "      opt.zero_grad()\n",
        "\n",
        "    if (epoch+1) % 10 == 0: # cada múltiplo de diez nos muestra la siguiente info\n",
        "      print('Epoch [{}/{}], Loss: {:.4f}'.format(epoch+1, num_epochs, loss.item()))\n",
        "      "
      ],
      "execution_count": null,
      "outputs": []
    },
    {
      "cell_type": "markdown",
      "metadata": {
        "id": "QFYpAnBMZr6t"
      },
      "source": [
        "Ahora podemos ejecutar la función, pasándole los parámetros establecidos en la función anterior:"
      ]
    },
    {
      "cell_type": "code",
      "metadata": {
        "colab": {
          "base_uri": "https://localhost:8080/"
        },
        "id": "2Yigdl4oYqyo",
        "outputId": "c228842d-7dc2-4930-ab0c-3a5eb5f092ef"
      },
      "source": [
        "entrenamiento(1000, model, loss_fn, opt, data_ld)"
      ],
      "execution_count": null,
      "outputs": [
        {
          "output_type": "stream",
          "text": [
            "Epoch [10/1000], Loss: 1.8888\n",
            "Epoch [20/1000], Loss: 1.2489\n",
            "Epoch [30/1000], Loss: 0.4635\n",
            "Epoch [40/1000], Loss: 1.0289\n",
            "Epoch [50/1000], Loss: 0.9051\n",
            "Epoch [60/1000], Loss: 0.2392\n",
            "Epoch [70/1000], Loss: 0.7564\n",
            "Epoch [80/1000], Loss: 2.2954\n",
            "Epoch [90/1000], Loss: 0.8743\n",
            "Epoch [100/1000], Loss: 1.0672\n",
            "Epoch [110/1000], Loss: 3.2474\n",
            "Epoch [120/1000], Loss: 0.7065\n",
            "Epoch [130/1000], Loss: 1.2559\n",
            "Epoch [140/1000], Loss: 1.2346\n",
            "Epoch [150/1000], Loss: 0.6092\n",
            "Epoch [160/1000], Loss: 0.8065\n",
            "Epoch [170/1000], Loss: 0.3479\n",
            "Epoch [180/1000], Loss: 0.9170\n",
            "Epoch [190/1000], Loss: 1.4035\n",
            "Epoch [200/1000], Loss: 3.1563\n",
            "Epoch [210/1000], Loss: 0.5810\n",
            "Epoch [220/1000], Loss: 0.8134\n",
            "Epoch [230/1000], Loss: 3.2895\n",
            "Epoch [240/1000], Loss: 1.4747\n",
            "Epoch [250/1000], Loss: 0.6903\n",
            "Epoch [260/1000], Loss: 1.1985\n",
            "Epoch [270/1000], Loss: 1.1866\n",
            "Epoch [280/1000], Loss: 0.9826\n",
            "Epoch [290/1000], Loss: 0.5706\n",
            "Epoch [300/1000], Loss: 0.7335\n",
            "Epoch [310/1000], Loss: 2.8313\n",
            "Epoch [320/1000], Loss: 1.0321\n",
            "Epoch [330/1000], Loss: 0.8232\n",
            "Epoch [340/1000], Loss: 0.4393\n",
            "Epoch [350/1000], Loss: 0.8694\n",
            "Epoch [360/1000], Loss: 1.5728\n",
            "Epoch [370/1000], Loss: 0.4807\n",
            "Epoch [380/1000], Loss: 0.9792\n",
            "Epoch [390/1000], Loss: 0.6938\n",
            "Epoch [400/1000], Loss: 1.2875\n",
            "Epoch [410/1000], Loss: 1.2068\n",
            "Epoch [420/1000], Loss: 0.9885\n",
            "Epoch [430/1000], Loss: 1.1031\n",
            "Epoch [440/1000], Loss: 0.7814\n",
            "Epoch [450/1000], Loss: 2.7347\n",
            "Epoch [460/1000], Loss: 1.4255\n",
            "Epoch [470/1000], Loss: 1.2313\n",
            "Epoch [480/1000], Loss: 3.0678\n",
            "Epoch [490/1000], Loss: 0.9212\n",
            "Epoch [500/1000], Loss: 0.4011\n",
            "Epoch [510/1000], Loss: 1.2797\n",
            "Epoch [520/1000], Loss: 0.8169\n",
            "Epoch [530/1000], Loss: 1.0809\n",
            "Epoch [540/1000], Loss: 1.8384\n",
            "Epoch [550/1000], Loss: 0.7249\n",
            "Epoch [560/1000], Loss: 1.0119\n",
            "Epoch [570/1000], Loss: 1.1504\n",
            "Epoch [580/1000], Loss: 0.9285\n",
            "Epoch [590/1000], Loss: 1.0281\n",
            "Epoch [600/1000], Loss: 1.2004\n",
            "Epoch [610/1000], Loss: 2.8913\n",
            "Epoch [620/1000], Loss: 0.8329\n",
            "Epoch [630/1000], Loss: 0.9514\n",
            "Epoch [640/1000], Loss: 0.9017\n",
            "Epoch [650/1000], Loss: 1.0563\n",
            "Epoch [660/1000], Loss: 0.4660\n",
            "Epoch [670/1000], Loss: 3.0623\n",
            "Epoch [680/1000], Loss: 1.5056\n",
            "Epoch [690/1000], Loss: 1.0473\n",
            "Epoch [700/1000], Loss: 1.0658\n",
            "Epoch [710/1000], Loss: 1.2628\n",
            "Epoch [720/1000], Loss: 0.8998\n",
            "Epoch [730/1000], Loss: 1.0593\n",
            "Epoch [740/1000], Loss: 0.6008\n",
            "Epoch [750/1000], Loss: 1.0020\n",
            "Epoch [760/1000], Loss: 0.9662\n",
            "Epoch [770/1000], Loss: 0.8819\n",
            "Epoch [780/1000], Loss: 1.2320\n",
            "Epoch [790/1000], Loss: 3.7098\n",
            "Epoch [800/1000], Loss: 1.4241\n",
            "Epoch [810/1000], Loss: 2.3754\n",
            "Epoch [820/1000], Loss: 1.6294\n",
            "Epoch [830/1000], Loss: 0.7873\n",
            "Epoch [840/1000], Loss: 1.1991\n",
            "Epoch [850/1000], Loss: 1.1315\n",
            "Epoch [860/1000], Loss: 1.2701\n",
            "Epoch [870/1000], Loss: 3.1392\n",
            "Epoch [880/1000], Loss: 0.8030\n",
            "Epoch [890/1000], Loss: 2.0808\n",
            "Epoch [900/1000], Loss: 0.4651\n",
            "Epoch [910/1000], Loss: 3.2788\n",
            "Epoch [920/1000], Loss: 1.0332\n",
            "Epoch [930/1000], Loss: 0.9754\n",
            "Epoch [940/1000], Loss: 0.7745\n",
            "Epoch [950/1000], Loss: 3.1712\n",
            "Epoch [960/1000], Loss: 1.0998\n",
            "Epoch [970/1000], Loss: 1.1259\n",
            "Epoch [980/1000], Loss: 1.9766\n",
            "Epoch [990/1000], Loss: 0.7810\n",
            "Epoch [1000/1000], Loss: 0.4893\n"
          ],
          "name": "stdout"
        }
      ]
    },
    {
      "cell_type": "markdown",
      "metadata": {
        "id": "cEZxawWUbSyb"
      },
      "source": [
        "Comparamos la salida predecida con la salida que sabemos que tiene que dar:"
      ]
    },
    {
      "cell_type": "code",
      "metadata": {
        "colab": {
          "base_uri": "https://localhost:8080/"
        },
        "id": "KYVSPdaVZ5Yw",
        "outputId": "c5f17fd0-9073-40bb-d525-de591f0cb919"
      },
      "source": [
        "pred = model(inputs)\n",
        "pred"
      ],
      "execution_count": null,
      "outputs": [
        {
          "output_type": "execute_result",
          "data": {
            "text/plain": [
              "tensor([[ 56.9722,  70.5138],\n",
              "        [ 82.1872, 100.5663],\n",
              "        [118.3084, 132.8717],\n",
              "        [ 20.9482,  37.8018],\n",
              "        [101.9382, 118.5739],\n",
              "        [ 55.7300,  69.4324],\n",
              "        [ 82.0470, 100.6594],\n",
              "        [118.6099, 133.4688],\n",
              "        [ 22.1903,  38.8832],\n",
              "        [103.0402, 119.7484],\n",
              "        [ 56.8320,  70.6068],\n",
              "        [ 80.9451,  99.4849],\n",
              "        [118.4486, 132.7786],\n",
              "        [ 19.8462,  36.6274],\n",
              "        [103.1804, 119.6553]], grad_fn=<AddmmBackward>)"
            ]
          },
          "metadata": {
            "tags": []
          },
          "execution_count": 65
        }
      ]
    },
    {
      "cell_type": "code",
      "metadata": {
        "colab": {
          "base_uri": "https://localhost:8080/"
        },
        "id": "S6n1tBZObNGw",
        "outputId": "e3360b42-301c-4d1d-fb92-3648650895bc"
      },
      "source": [
        "targets"
      ],
      "execution_count": null,
      "outputs": [
        {
          "output_type": "execute_result",
          "data": {
            "text/plain": [
              "tensor([[ 56.,  70.],\n",
              "        [ 81., 101.],\n",
              "        [119., 133.],\n",
              "        [ 22.,  37.],\n",
              "        [103., 119.],\n",
              "        [ 57.,  69.],\n",
              "        [ 80., 102.],\n",
              "        [118., 132.],\n",
              "        [ 21.,  38.],\n",
              "        [104., 118.],\n",
              "        [ 57.,  69.],\n",
              "        [ 82., 100.],\n",
              "        [118., 134.],\n",
              "        [ 20.,  38.],\n",
              "        [102., 120.]])"
            ]
          },
          "metadata": {
            "tags": []
          },
          "execution_count": 67
        }
      ]
    },
    {
      "cell_type": "markdown",
      "metadata": {
        "id": "gl4Dv8aabcmQ"
      },
      "source": [
        "# Predecir otras salidas "
      ]
    },
    {
      "cell_type": "code",
      "metadata": {
        "colab": {
          "base_uri": "https://localhost:8080/"
        },
        "id": "CW-Rbf5KbRWw",
        "outputId": "9bc594f6-6bf4-472a-de05-46ac0568e6b3"
      },
      "source": [
        "model(torch.tensor([75., 63., 44.]))"
      ],
      "execution_count": null,
      "outputs": [
        {
          "output_type": "execute_result",
          "data": {
            "text/plain": [
              "tensor([53.5056, 67.6513], grad_fn=<AddBackward0>)"
            ]
          },
          "metadata": {
            "tags": []
          },
          "execution_count": 70
        }
      ]
    },
    {
      "cell_type": "markdown",
      "metadata": {
        "id": "xWR57S_IckNq"
      },
      "source": [
        "# Otros ejemplos\n",
        "## Regresión cuadrática o polinomial\n",
        "Vamos a suponer que tenemos los siguientes puntos, que se parecen a una función cuadrática, de la forma $f(x) = w_0 + w_1 x + w_2 x^2$:\n",
        "\n",
        "\n"
      ]
    },
    {
      "cell_type": "code",
      "metadata": {
        "id": "uUJYU8M1b1qt",
        "colab": {
          "base_uri": "https://localhost:8080/",
          "height": 279
        },
        "outputId": "a1ea1b76-ecbe-42a2-ae5f-30b94afed1f5"
      },
      "source": [
        "# Creamos el dataset de los puntos:\n",
        "import torch\n",
        "import numpy as np\n",
        "import matplotlib.pyplot as plt\n",
        "%matplotlib inline\n",
        "\n",
        "x = np.linspace(-10,10,100)\n",
        "y = x**2 + 0.7 * x + 3.0 + 20 * np.random.rand(len(x))  \n",
        "\n",
        "plt.plot(x,y,'o')\n",
        "plt.grid()\n",
        "plt.xlabel('x')\n",
        "plt.ylabel('y')\n",
        "plt.show()\n"
      ],
      "execution_count": 19,
      "outputs": [
        {
          "output_type": "display_data",
          "data": {
            "image/png": "[encoded data removed]",
            "text/plain": [
              "<Figure size 432x288 with 1 Axes>"
            ]
          },
          "metadata": {
            "tags": [],
            "needs_background": "light"
          }
        }
      ]
    },
    {
      "cell_type": "markdown",
      "metadata": {
        "id": "R8f6ACHFfV39"
      },
      "source": [
        "Tenemos que crear el set de entrenamiento, para ello, realizamos lo siguiente:\n"
      ]
    },
    {
      "cell_type": "code",
      "metadata": {
        "colab": {
          "base_uri": "https://localhost:8080/"
        },
        "id": "sfn2sVx6dl1L",
        "outputId": "917b498a-0255-4c40-8fec-4bdb20317e4f"
      },
      "source": [
        "# Generamos los coeficientes del polinomio\n",
        "x_train = torch.FloatTensor([[xval ** 2, xval ** 1, 1] for xval in x])\n",
        "y_train = torch.FloatTensor(y)\n",
        "# lo convertimos a columna\n",
        "y_train = y_train.view(100,-1)\n",
        "y_train.shape"
      ],
      "execution_count": 38,
      "outputs": [
        {
          "output_type": "execute_result",
          "data": {
            "text/plain": [
              "torch.Size([100, 1])"
            ]
          },
          "metadata": {
            "tags": []
          },
          "execution_count": 38
        }
      ]
    },
    {
      "cell_type": "code",
      "metadata": {
        "id": "W9iO95mknsNj"
      },
      "source": [
        ""
      ],
      "execution_count": null,
      "outputs": []
    }
  ]
}